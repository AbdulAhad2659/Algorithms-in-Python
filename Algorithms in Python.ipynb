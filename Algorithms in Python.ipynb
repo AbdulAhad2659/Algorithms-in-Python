{
 "cells": [
  {
   "cell_type": "markdown",
   "id": "94031349",
   "metadata": {},
   "source": [
    "# Recursion"
   ]
  },
  {
   "cell_type": "markdown",
   "id": "72990e71",
   "metadata": {},
   "source": [
    "1: Factorial"
   ]
  },
  {
   "cell_type": "code",
   "execution_count": 1,
   "id": "567c1ec1",
   "metadata": {},
   "outputs": [
    {
     "name": "stdout",
     "output_type": "stream",
     "text": [
      "Enter a number: 5\n",
      "\n",
      "The factorial of 5 is: 120\n"
     ]
    }
   ],
   "source": [
    "def factorial(number):\n",
    "    if number == 0 or number == 1:\n",
    "        return 1\n",
    "    \n",
    "    else:\n",
    "        return number * factorial(number - 1)\n",
    "\n",
    "num = int(input(\"Enter a number: \"))\n",
    "print(\"\\nThe factorial of\", num, \"is:\", factorial(num))"
   ]
  },
  {
   "cell_type": "markdown",
   "id": "6f6c4456",
   "metadata": {},
   "source": [
    "2: Permutations"
   ]
  },
  {
   "cell_type": "code",
   "execution_count": 2,
   "id": "653a7d8d",
   "metadata": {},
   "outputs": [
    {
     "name": "stdout",
     "output_type": "stream",
     "text": [
      "Enter a word: abc\n",
      "['abc', 'acb', 'bac', 'bca', 'cab', 'cba']\n"
     ]
    }
   ],
   "source": [
    "word = input(\"Enter a word: \")\n",
    "global all_perm\n",
    "\n",
    "def perm(word, pocket = \"\"):\n",
    "    if word == \"\":\n",
    "        all_perm.append(pocket)\n",
    "    \n",
    "    else:\n",
    "        for i in range(len(word)):\n",
    "            letter = word[i]\n",
    "            front = word[:i]\n",
    "            back = word[i + 1:]\n",
    "            total = front + back\n",
    "            \n",
    "            perm(total, letter + pocket)\n",
    "\n",
    "all_perm = []\n",
    "perm(word, \"\")\n",
    "\n",
    "print(sorted(all_perm))"
   ]
  },
  {
   "cell_type": "markdown",
   "id": "8e5e7607",
   "metadata": {},
   "source": [
    "3: Permutations usinig itertools library"
   ]
  },
  {
   "cell_type": "code",
   "execution_count": 3,
   "id": "2a0581e6",
   "metadata": {},
   "outputs": [
    {
     "name": "stdout",
     "output_type": "stream",
     "text": [
      "Enter a word: abc\n",
      "['abc', 'acb', 'bac', 'bca', 'cab', 'cba']\n"
     ]
    }
   ],
   "source": [
    "from itertools import permutations\n",
    "\n",
    "word = input(\"Enter a word: \")\n",
    "final_permutations = []\n",
    "check = \"\"\n",
    "\n",
    "perms = list(permutations(word, len(word)))\n",
    "\n",
    "for i in range(len(perms)):\n",
    "    for j in range(len(perms[i])):\n",
    "        check += perms[i][j]\n",
    "    \n",
    "    final_permutations.append(check)\n",
    "    check = \"\"\n",
    "\n",
    "print(final_permutations)"
   ]
  },
  {
   "cell_type": "markdown",
   "id": "da57908f",
   "metadata": {},
   "source": [
    "# Searching Algorithms"
   ]
  },
  {
   "cell_type": "markdown",
   "id": "acbeed57",
   "metadata": {},
   "source": [
    "1: Linear Search"
   ]
  },
  {
   "cell_type": "code",
   "execution_count": 5,
   "id": "2a7874f2",
   "metadata": {},
   "outputs": [
    {
     "name": "stdout",
     "output_type": "stream",
     "text": [
      "Enter the number to search: 878\n",
      "The number 878 is in index 3\n"
     ]
    }
   ],
   "source": [
    "array = [8, 46, 23, 878, 12, 963, 82]\n",
    "\n",
    "def lin_search(target, values):\n",
    "    for i, j in enumerate(array):\n",
    "        if j == target:\n",
    "            return i\n",
    "    \n",
    "    return \"No such number in the array\"\n",
    "\n",
    "number = int(input(\"Enter the number to search: \"))\n",
    "print(\"The number\", number, \"is in index\", lin_search(number, array))"
   ]
  },
  {
   "cell_type": "markdown",
   "id": "79646191",
   "metadata": {},
   "source": [
    "2: Iterative Binary Search"
   ]
  },
  {
   "cell_type": "code",
   "execution_count": 6,
   "id": "6bdcb521",
   "metadata": {},
   "outputs": [
    {
     "name": "stdout",
     "output_type": "stream",
     "text": [
      "Enter the number to search: 22\n",
      "The position of the number is at index: 5\n"
     ]
    }
   ],
   "source": [
    "def iter_bin_search(start, end, array, target):    \n",
    "    while start <= end:\n",
    "        mid = (start + end) // 2\n",
    "    \n",
    "        if target == array[mid]:\n",
    "            return mid\n",
    "\n",
    "        elif target < array[mid]:\n",
    "            end = mid - 1\n",
    "\n",
    "        elif target > array[mid]:\n",
    "            start = mid + 1\n",
    "\n",
    "values = [2, 5, 8, 10, 16, 22, 25]\n",
    "number = int(input(\"Enter the number to search: \"))\n",
    "\n",
    "result = iter_bin_search(0, len(values) - 1, values, number)\n",
    "\n",
    "if result != None:\n",
    "    print(\"The position of the number is at index:\", result)\n",
    "\n",
    "else:\n",
    "    print(\"The number\", number, \"does not exist in the array\")"
   ]
  },
  {
   "cell_type": "markdown",
   "id": "032469ac",
   "metadata": {},
   "source": [
    "3: Recursive Binary Search"
   ]
  },
  {
   "cell_type": "code",
   "execution_count": 7,
   "id": "1c68f073",
   "metadata": {},
   "outputs": [
    {
     "name": "stdout",
     "output_type": "stream",
     "text": [
      "Enter the number to search: 16\n",
      "The position of the number is at index: 4\n"
     ]
    }
   ],
   "source": [
    "def rec_bin_search(start, end, array, target):    \n",
    "    if end >= start:\n",
    "        mid = (start + end) // 2\n",
    "    \n",
    "        if target == array[mid]:\n",
    "            return mid\n",
    "\n",
    "        elif target < array[mid]:\n",
    "            return rec_bin_search(start, mid - 1, array, target)\n",
    "\n",
    "        elif target > array[mid]:\n",
    "            return rec_bin_search(mid + 1, end, array, target) \n",
    "\n",
    "values = [2, 5, 8, 10, 16, 22, 25]\n",
    "number = int(input(\"Enter the number to search: \"))\n",
    "\n",
    "result = rec_bin_search(0, len(values) - 1, values, number)\n",
    "\n",
    "if result != None:\n",
    "    print(\"The position of the number is at index:\", result)\n",
    "\n",
    "else:\n",
    "    print(\"The number\", number, \"does not exist in the array\")"
   ]
  },
  {
   "cell_type": "markdown",
   "id": "c74d2ffa",
   "metadata": {},
   "source": [
    "# Sorting Algorithms"
   ]
  },
  {
   "cell_type": "markdown",
   "id": "0ab18687",
   "metadata": {},
   "source": [
    "1: Bubble Sort"
   ]
  },
  {
   "cell_type": "code",
   "execution_count": 8,
   "id": "45ef5cbc",
   "metadata": {},
   "outputs": [
    {
     "name": "stdout",
     "output_type": "stream",
     "text": [
      "The actual array is: [2, 8, 9, 7, 4, 1, 6, 5, 3]\n",
      "The sorted array is: [1, 2, 3, 4, 5, 6, 7, 8, 9]\n"
     ]
    }
   ],
   "source": [
    "def bubble_sort(values):\n",
    "    for i in range(len(values) - 1):\n",
    "        for j in range(i, len(values)):\n",
    "            if values[i] > values[j]:\n",
    "                values[i], values[j] = values[j], values[i]\n",
    "                \n",
    "    return values\n",
    "\n",
    "array = [2, 8, 9, 7, 4, 1, 6, 5, 3]\n",
    "print(\"The actual array is:\", array)\n",
    "print(\"The sorted array is:\", bubble_sort(array))"
   ]
  },
  {
   "cell_type": "markdown",
   "id": "8a27bf36",
   "metadata": {},
   "source": [
    "2: Insertion Sort"
   ]
  },
  {
   "cell_type": "code",
   "execution_count": 9,
   "id": "93a8b5d2",
   "metadata": {},
   "outputs": [
    {
     "name": "stdout",
     "output_type": "stream",
     "text": [
      "The actual array is: [2, 8, 9, 7, 4, 1, 6, 5, 3]\n",
      "The sorted array is: [1, 2, 3, 4, 5, 6, 7, 8, 9]\n"
     ]
    }
   ],
   "source": [
    "def insertion_sort(values):\n",
    "    for i in range(1, len(values)):\n",
    "        sorted_val = values[i]\n",
    "        unsorted_index = i - 1\n",
    "        \n",
    "        while unsorted_index > -1 and values[unsorted_index] > sorted_val:\n",
    "            values[unsorted_index + 1] = values[unsorted_index]\n",
    "            unsorted_index -= 1\n",
    "        \n",
    "        values[unsorted_index + 1] = sorted_val\n",
    "        \n",
    "    return values\n",
    "\n",
    "array = [2, 8, 9, 7, 4, 1, 6, 5, 3]\n",
    "print(\"The actual array is:\", array)\n",
    "print(\"The sorted array is:\", insertion_sort(array))"
   ]
  },
  {
   "cell_type": "markdown",
   "id": "b41786b7",
   "metadata": {},
   "source": [
    "# Linked Lists"
   ]
  },
  {
   "cell_type": "markdown",
   "id": "1a3bd1b9",
   "metadata": {},
   "source": [
    "1: Traversal"
   ]
  },
  {
   "cell_type": "code",
   "execution_count": 10,
   "id": "43fa1d8d",
   "metadata": {},
   "outputs": [
    {
     "name": "stdout",
     "output_type": "stream",
     "text": [
      "Bob\n",
      "Amy\n",
      "Max\n",
      "Jenny\n"
     ]
    }
   ],
   "source": [
    "class Node:\n",
    "    def __init__(self, data):\n",
    "        self.data = data\n",
    "        self.next = None\n",
    "\n",
    "\n",
    "class LinkedList:\n",
    "    def traversal(self):\n",
    "        first = self.head\n",
    "        while first:\n",
    "            print(first.data)\n",
    "            first = first.next\n",
    "            \n",
    "\n",
    "    \n",
    "family = LinkedList()\n",
    "family.head = Node(\"Bob\")\n",
    "wife = Node(\"Amy\")\n",
    "first_kid = Node(\"Max\")\n",
    "second_kid = Node(\"Jenny\")\n",
    "\n",
    "family.head.next = wife\n",
    "wife.next = first_kid\n",
    "first_kid.next = second_kid\n",
    "\n",
    "family.traversal()"
   ]
  },
  {
   "cell_type": "markdown",
   "id": "f0e6ca46",
   "metadata": {},
   "source": [
    "2: Insertion"
   ]
  },
  {
   "cell_type": "code",
   "execution_count": 11,
   "id": "44632a41",
   "metadata": {},
   "outputs": [
    {
     "name": "stdout",
     "output_type": "stream",
     "text": [
      "Dave\n",
      "Bob\n",
      "Amy\n",
      "Max\n",
      "Jenny\n"
     ]
    }
   ],
   "source": [
    "class Node:\n",
    "    def __init__(self, data):\n",
    "        self.data = data\n",
    "        self.next = None\n",
    "\n",
    "\n",
    "class LinkedList:\n",
    "    def traversal(self):\n",
    "        first = self.head\n",
    "        while first:\n",
    "            print(first.data)\n",
    "            first = first.next\n",
    "    \n",
    "    def insert_new_header(self, new_data):\n",
    "            new_node = Node(new_data)\n",
    "            new_node.next = self.head\n",
    "            self.head = new_node \n",
    "    \n",
    "family = LinkedList()\n",
    "family.head = Node(\"Bob\")\n",
    "wife = Node(\"Amy\")\n",
    "first_kid = Node(\"Max\")\n",
    "second_kid = Node(\"Jenny\")\n",
    "\n",
    "family.head.next = wife\n",
    "wife.next = first_kid\n",
    "first_kid.next = second_kid\n",
    "\n",
    "family.insert_new_header(\"Dave\")\n",
    "family.traversal()"
   ]
  },
  {
   "cell_type": "markdown",
   "id": "86e947e5",
   "metadata": {},
   "source": [
    "3: Deletion"
   ]
  },
  {
   "cell_type": "code",
   "execution_count": 12,
   "id": "7fdf4b78",
   "metadata": {},
   "outputs": [
    {
     "name": "stdout",
     "output_type": "stream",
     "text": [
      "Who do you want to add as new member?: David\n",
      "Who do you want to delete from the family?: Amy\n",
      "Amy has been ousted.\n",
      "\n",
      "The family members are:\n",
      "David\n",
      "Bob\n",
      "Max\n",
      "Jenny\n"
     ]
    }
   ],
   "source": [
    "class Node:\n",
    "    def __init__(self, data):\n",
    "        self.data = data\n",
    "        self.next = None\n",
    "\n",
    "\n",
    "class LinkedList:\n",
    "    def traversal(self):\n",
    "        print(\"\\nThe family members are:\")\n",
    "        first = self.head\n",
    "        while first:\n",
    "            print(first.data)\n",
    "            first = first.next\n",
    "    \n",
    "    def insert_new_header(self, new_data):\n",
    "            new_node = Node(new_data)\n",
    "            new_node.next = self.head\n",
    "            self.head = new_node  \n",
    "        \n",
    "    def delete_node(self, data):\n",
    "        temp = self.head\n",
    "        prev = temp\n",
    "        \n",
    "        while temp is not None:\n",
    "            if temp.data == data and temp.data == self.head.data:\n",
    "                self.head = temp.next\n",
    "                break\n",
    "                \n",
    "            elif temp.data == data:\n",
    "                break\n",
    "                \n",
    "            prev = temp\n",
    "            temp = temp.next\n",
    "        \n",
    "        if prev.next == None:\n",
    "            return str(data) + \" not in family\"\n",
    "        \n",
    "        prev.next = temp.next\n",
    "    \n",
    "        return str(data) + \" has been ousted.\"\n",
    "    \n",
    "    \n",
    "family = LinkedList()\n",
    "family.head = Node(\"Bob\")\n",
    "wife = Node(\"Amy\")\n",
    "first_kid = Node(\"Max\")\n",
    "second_kid = Node(\"Jenny\")\n",
    "\n",
    "family.head.next = wife\n",
    "wife.next = first_kid\n",
    "first_kid.next = second_kid\n",
    "\n",
    "new_mem = input(\"Who do you want to add as new member?: \")\n",
    "family.insert_new_header(new_mem)\n",
    "delete_mem = input(\"Who do you want to delete from the family?: \")\n",
    "print(family.delete_node(delete_mem))\n",
    "family.traversal()"
   ]
  },
  {
   "cell_type": "markdown",
   "id": "2bdbb80d",
   "metadata": {},
   "source": [
    "# Divide and Conquer"
   ]
  },
  {
   "cell_type": "markdown",
   "id": "f6574edf",
   "metadata": {},
   "source": [
    "1: Merge Sort (with already two sorted lists)"
   ]
  },
  {
   "cell_type": "code",
   "execution_count": 13,
   "id": "2b486b29",
   "metadata": {},
   "outputs": [
    {
     "name": "stdout",
     "output_type": "stream",
     "text": [
      "[2, 3, 4, 5, 6, 10, 12, 20]\n"
     ]
    }
   ],
   "source": [
    "def merge_sort(One, Two):\n",
    "    while len(One) > 0 and len(Two) > 0:\n",
    "        if One[0] > Two[0]:\n",
    "            res.append(Two.pop(0))\n",
    "        \n",
    "        else:\n",
    "            res.append(One.pop(0))\n",
    "            \n",
    "    if len(One) > 0:\n",
    "        for i in One:\n",
    "            res.append(i)\n",
    "            \n",
    "    elif len(Two) > 0:\n",
    "        for j in Two:\n",
    "            res.append(j)\n",
    "    \n",
    "    return res\n",
    "\n",
    "A = [2, 5, 6, 10]\n",
    "B = [3, 4, 12, 20]\n",
    "global res\n",
    "res = []\n",
    "\n",
    "print(merge_sort(A, B))"
   ]
  },
  {
   "cell_type": "markdown",
   "id": "6d5ec089",
   "metadata": {},
   "source": [
    "2: Merge Sort with Recursion (on 1 complete unsorted list)"
   ]
  },
  {
   "cell_type": "code",
   "execution_count": 14,
   "id": "816ecc98",
   "metadata": {},
   "outputs": [
    {
     "name": "stdout",
     "output_type": "stream",
     "text": [
      "Actual list: [8, 16, 12, 24, 7, 6, 18, 29, 28]\n",
      "Sorted list: [6, 7, 8, 12, 16, 18, 24, 28, 29]\n"
     ]
    }
   ],
   "source": [
    "def merge_sort(One):\n",
    "    if len(One) <= 1:\n",
    "        return One\n",
    "    \n",
    "    res = []\n",
    "    mid = len(One) // 2\n",
    "    left = merge_sort(One[:mid])\n",
    "    right = merge_sort(One[mid:])\n",
    "\n",
    "    while len(left) > 0 and len(right) > 0:\n",
    "        if left[0] > right[0]:\n",
    "            res.append(right.pop(0))\n",
    "\n",
    "        else:\n",
    "            res.append(left.pop(0))\n",
    "\n",
    "    res.extend(left if left else right)\n",
    "    \n",
    "    return res\n",
    "    \n",
    "A = [8, 16, 12, 24, 7, 6, 18, 29, 28]\n",
    "\n",
    "print(\"Actual list:\", A)\n",
    "print(\"Sorted list:\", merge_sort(A))"
   ]
  },
  {
   "cell_type": "markdown",
   "id": "f1533227",
   "metadata": {},
   "source": [
    "# Greedy Algorithms"
   ]
  },
  {
   "cell_type": "markdown",
   "id": "722f6eba",
   "metadata": {},
   "source": [
    "1: Minimum Absolute Difference"
   ]
  },
  {
   "cell_type": "code",
   "execution_count": 15,
   "id": "f727e34c",
   "metadata": {},
   "outputs": [
    {
     "name": "stdout",
     "output_type": "stream",
     "text": [
      "The last mouse gets in the hole in time: 6\n"
     ]
    }
   ],
   "source": [
    "def assignHole(mice, holes):\n",
    "    if len(mice) != len(holes):\n",
    "        return \"Mice and holes are not equal\"\n",
    "    \n",
    "    mice.sort()\n",
    "    holes.sort()\n",
    "    \n",
    "    max_diff = 0\n",
    "    \n",
    "    for i in range(len(mice)):\n",
    "        check = abs(mice[i] - holes[i])\n",
    "        if check > max_diff:\n",
    "            max_diff = check\n",
    "            \n",
    "    return max_diff\n",
    "\n",
    "mice = [11, -4, 4]\n",
    "holes = [4, 0, 5]\n",
    "\n",
    "print(\"The last mouse gets in the hole in time:\", assignHole(mice, holes))"
   ]
  },
  {
   "cell_type": "markdown",
   "id": "5f87bc46",
   "metadata": {},
   "source": [
    "2: Fractional Knapsack"
   ]
  },
  {
   "cell_type": "code",
   "execution_count": 17,
   "id": "41a0fcbc",
   "metadata": {},
   "outputs": [
    {
     "name": "stdout",
     "output_type": "stream",
     "text": [
      "Remaining capacity: 150  Current value:  0\n",
      "Remaining capacity: 140  Current value:  90\n",
      "Remaining capacity: 110  Current value:  240\n",
      "Remaining capacity: 70  Current value:  360\n",
      "Remaining capacity: 20  Current value:  460\n",
      "Remaining capacity: 0  Current value:  500\n",
      "\n",
      "Maximum value for the items: 500\n"
     ]
    }
   ],
   "source": [
    "def frac_knapsack(value, weight, capacity):\n",
    "    max_val = 0\n",
    "    items = list(range(len(value)))\n",
    "    ratio = []\n",
    "    \n",
    "    for ratios in items:\n",
    "        ratio.append(value[ratios] // weight[ratios])\n",
    "    \n",
    "    items.sort(key = lambda i: ratio[i], reverse = True)\n",
    "    \n",
    "    for i in items:\n",
    "        print(\"Remaining capacity:\", capacity, \" Current value: \", max_val)\n",
    "        if weight[i] <= capacity:\n",
    "            max_val += value[i]\n",
    "            capacity -= weight[i]\n",
    "                     \n",
    "        else:\n",
    "            max_val += value[i] * capacity // weight[i]\n",
    "            capacity = capacity // weight[i]\n",
    "    \n",
    "    print(\"Remaining capacity:\", capacity, \" Current value: \", max_val)\n",
    "    \n",
    "    return max_val\n",
    "\n",
    "value = [150, 100, 90, 140, 120]\n",
    "weight = [30, 50, 10, 70, 40]\n",
    "capacity = 150\n",
    "\n",
    "print(\"\\nMaximum value for the items:\", frac_knapsack(value, weight, capacity))"
   ]
  },
  {
   "cell_type": "markdown",
   "id": "bce7e47b",
   "metadata": {},
   "source": [
    "# Dynamic Programming"
   ]
  },
  {
   "cell_type": "markdown",
   "id": "95499da6",
   "metadata": {},
   "source": [
    "1: Ugly Numbers"
   ]
  },
  {
   "cell_type": "code",
   "execution_count": 18,
   "id": "89cadac9",
   "metadata": {},
   "outputs": [
    {
     "name": "stdout",
     "output_type": "stream",
     "text": [
      "Enter the number upto which you want to see the ugly numbers: 18\n",
      "Ugly number 1 is:  1\n",
      "Ugly number 2 is:  2\n",
      "Ugly number 3 is:  3\n",
      "Ugly number 4 is:  4\n",
      "Ugly number 5 is:  5\n",
      "Ugly number 6 is:  6\n",
      "Ugly number 7 is:  8\n",
      "Ugly number 8 is:  9\n",
      "Ugly number 9 is:  10\n",
      "Ugly number 10 is:  12\n",
      "Ugly number 11 is:  15\n",
      "Ugly number 12 is:  16\n",
      "Ugly number 13 is:  18\n",
      "Ugly number 14 is:  20\n",
      "Ugly number 15 is:  24\n",
      "Ugly number 16 is:  27\n",
      "Ugly number 17 is:  30\n",
      "Ugly number 18 is:  32\n"
     ]
    }
   ],
   "source": [
    "def nthUgly(n):\n",
    "    dpUgly = [0] * n\n",
    "    dpUgly[0] = 1\n",
    "    \n",
    "    multiple_2 = 2\n",
    "    multiple_3 = 3\n",
    "    multiple_5 = 5\n",
    "    \n",
    "    u2 = u3 = u5 = 0\n",
    "    \n",
    "    for i in range(1, n):\n",
    "        dpUgly[i] = min(multiple_2, multiple_3, multiple_5)\n",
    "        \n",
    "        if dpUgly[i] == multiple_2:\n",
    "            u2 += 1\n",
    "            multiple_2 = dpUgly[u2] * 2\n",
    "            \n",
    "        if dpUgly[i] == multiple_3:\n",
    "            u3 += 1\n",
    "            multiple_3 = dpUgly[u3] * 3\n",
    "            \n",
    "        if dpUgly[i] == multiple_5:\n",
    "            u5 += 1\n",
    "            multiple_5 = dpUgly[u5] * 3\n",
    "            \n",
    "    return dpUgly\n",
    "\n",
    "n = int(input(\"Enter the number upto which you want to see the ugly numbers: \"))\n",
    "res = nthUgly(n)\n",
    "\n",
    "for index, numbers in enumerate(res):\n",
    "    print(\"Ugly number\", index + 1, \"is: \", numbers)"
   ]
  }
 ],
 "metadata": {
  "kernelspec": {
   "display_name": "Python 3 (ipykernel)",
   "language": "python",
   "name": "python3"
  },
  "language_info": {
   "codemirror_mode": {
    "name": "ipython",
    "version": 3
   },
   "file_extension": ".py",
   "mimetype": "text/x-python",
   "name": "python",
   "nbconvert_exporter": "python",
   "pygments_lexer": "ipython3",
   "version": "3.9.7"
  }
 },
 "nbformat": 4,
 "nbformat_minor": 5
}
