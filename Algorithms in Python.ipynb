{
 "cells": [
  {
   "cell_type": "markdown",
   "id": "d78752d2",
   "metadata": {},
   "source": [
    "# Recursion"
   ]
  },
  {
   "cell_type": "markdown",
   "id": "1f3490a7",
   "metadata": {},
   "source": [
    "1: Factorial"
   ]
  },
  {
   "cell_type": "code",
   "execution_count": 1,
   "id": "73177b7f",
   "metadata": {},
   "outputs": [
    {
     "name": "stdout",
     "output_type": "stream",
     "text": [
      "Enter a number: 5\n",
      "\n",
      "The factorial of 5 is: 120\n"
     ]
    }
   ],
   "source": [
    "def factorial(number):\n",
    "    if number == 0 or number == 1:\n",
    "        return 1\n",
    "    \n",
    "    else:\n",
    "        return number * factorial(number - 1)\n",
    "\n",
    "num = int(input(\"Enter a number: \"))\n",
    "print(\"\\nThe factorial of\", num, \"is:\", factorial(num))"
   ]
  },
  {
   "cell_type": "markdown",
   "id": "66cf169d",
   "metadata": {},
   "source": [
    "2: Permutations"
   ]
  },
  {
   "cell_type": "code",
   "execution_count": 2,
   "id": "09f431f0",
   "metadata": {},
   "outputs": [
    {
     "name": "stdout",
     "output_type": "stream",
     "text": [
      "Enter a word: abc\n",
      "['abc', 'acb', 'bac', 'bca', 'cab', 'cba']\n"
     ]
    }
   ],
   "source": [
    "word = input(\"Enter a word: \")\n",
    "global all_perm\n",
    "\n",
    "def perm(word, pocket = \"\"):\n",
    "    if word == \"\":\n",
    "        all_perm.append(pocket)\n",
    "    \n",
    "    else:\n",
    "        for i in range(len(word)):\n",
    "            letter = word[i]\n",
    "            front = word[:i]\n",
    "            back = word[i + 1:]\n",
    "            total = front + back\n",
    "            \n",
    "            perm(total, letter + pocket)\n",
    "\n",
    "all_perm = []\n",
    "perm(word, \"\")\n",
    "\n",
    "print(sorted(all_perm))"
   ]
  },
  {
   "cell_type": "markdown",
   "id": "2d737247",
   "metadata": {},
   "source": [
    "3: Permutations usinig itertools library"
   ]
  },
  {
   "cell_type": "code",
   "execution_count": 3,
   "id": "50ce388f",
   "metadata": {},
   "outputs": [
    {
     "name": "stdout",
     "output_type": "stream",
     "text": [
      "Enter a word: abc\n",
      "['abc', 'acb', 'bac', 'bca', 'cab', 'cba']\n"
     ]
    }
   ],
   "source": [
    "from itertools import permutations\n",
    "\n",
    "word = input(\"Enter a word: \")\n",
    "final_permutations = []\n",
    "check = \"\"\n",
    "\n",
    "perms = list(permutations(word, len(word)))\n",
    "\n",
    "for i in range(len(perms)):\n",
    "    for j in range(len(perms[i])):\n",
    "        check += perms[i][j]\n",
    "    \n",
    "    final_permutations.append(check)\n",
    "    check = \"\"\n",
    "\n",
    "print(final_permutations)"
   ]
  },
  {
   "cell_type": "markdown",
   "id": "adb4c460",
   "metadata": {},
   "source": [
    "# Searching Algorithms"
   ]
  },
  {
   "cell_type": "markdown",
   "id": "b74aed86",
   "metadata": {},
   "source": [
    "1: Linear Search"
   ]
  },
  {
   "cell_type": "code",
   "execution_count": 5,
   "id": "1a8e02e9",
   "metadata": {},
   "outputs": [
    {
     "name": "stdout",
     "output_type": "stream",
     "text": [
      "Enter the number to search: 878\n",
      "The number 878 is in index 3\n"
     ]
    }
   ],
   "source": [
    "array = [8, 46, 23, 878, 12, 963, 82]\n",
    "\n",
    "def lin_search(target, values):\n",
    "    for i, j in enumerate(array):\n",
    "        if j == target:\n",
    "            return i\n",
    "    \n",
    "    return \"No such number in the array\"\n",
    "\n",
    "number = int(input(\"Enter the number to search: \"))\n",
    "print(\"The number\", number, \"is in index\", lin_search(number, array))"
   ]
  },
  {
   "cell_type": "markdown",
   "id": "e5eb4ee1",
   "metadata": {},
   "source": [
    "2: Iterative Binary Search"
   ]
  },
  {
   "cell_type": "code",
   "execution_count": 6,
   "id": "1a622746",
   "metadata": {},
   "outputs": [
    {
     "name": "stdout",
     "output_type": "stream",
     "text": [
      "Enter the number to search: 22\n",
      "The position of the number is at index: 5\n"
     ]
    }
   ],
   "source": [
    "def iter_bin_search(start, end, array, target):    \n",
    "    while start <= end:\n",
    "        mid = (start + end) // 2\n",
    "    \n",
    "        if target == array[mid]:\n",
    "            return mid\n",
    "\n",
    "        elif target < array[mid]:\n",
    "            end = mid - 1\n",
    "\n",
    "        elif target > array[mid]:\n",
    "            start = mid + 1\n",
    "\n",
    "values = [2, 5, 8, 10, 16, 22, 25]\n",
    "number = int(input(\"Enter the number to search: \"))\n",
    "\n",
    "result = iter_bin_search(0, len(values) - 1, values, number)\n",
    "\n",
    "if result != None:\n",
    "    print(\"The position of the number is at index:\", result)\n",
    "\n",
    "else:\n",
    "    print(\"The number\", number, \"does not exist in the array\")"
   ]
  },
  {
   "cell_type": "markdown",
   "id": "00e5739f",
   "metadata": {},
   "source": [
    "3: Recursive Binary Search"
   ]
  },
  {
   "cell_type": "code",
   "execution_count": 7,
   "id": "a089c84b",
   "metadata": {},
   "outputs": [
    {
     "name": "stdout",
     "output_type": "stream",
     "text": [
      "Enter the number to search: 16\n",
      "The position of the number is at index: 4\n"
     ]
    }
   ],
   "source": [
    "def rec_bin_search(start, end, array, target):    \n",
    "    if end >= start:\n",
    "        mid = (start + end) // 2\n",
    "    \n",
    "        if target == array[mid]:\n",
    "            return mid\n",
    "\n",
    "        elif target < array[mid]:\n",
    "            return rec_bin_search(start, mid - 1, array, target)\n",
    "\n",
    "        elif target > array[mid]:\n",
    "            return rec_bin_search(mid + 1, end, array, target) \n",
    "\n",
    "values = [2, 5, 8, 10, 16, 22, 25]\n",
    "number = int(input(\"Enter the number to search: \"))\n",
    "\n",
    "result = rec_bin_search(0, len(values) - 1, values, number)\n",
    "\n",
    "if result != None:\n",
    "    print(\"The position of the number is at index:\", result)\n",
    "\n",
    "else:\n",
    "    print(\"The number\", number, \"does not exist in the array\")"
   ]
  },
  {
   "cell_type": "code",
   "execution_count": null,
   "id": "fb41bb8b",
   "metadata": {},
   "outputs": [],
   "source": []
  }
 ],
 "metadata": {
  "kernelspec": {
   "display_name": "Python 3 (ipykernel)",
   "language": "python",
   "name": "python3"
  },
  "language_info": {
   "codemirror_mode": {
    "name": "ipython",
    "version": 3
   },
   "file_extension": ".py",
   "mimetype": "text/x-python",
   "name": "python",
   "nbconvert_exporter": "python",
   "pygments_lexer": "ipython3",
   "version": "3.9.7"
  }
 },
 "nbformat": 4,
 "nbformat_minor": 5
}
