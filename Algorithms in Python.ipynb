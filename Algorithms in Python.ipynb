{
 "cells": [
  {
   "cell_type": "markdown",
   "id": "d21b6466",
   "metadata": {},
   "source": [
    "# Recursion"
   ]
  },
  {
   "cell_type": "markdown",
   "id": "4a36348c",
   "metadata": {},
   "source": [
    "1: Factorial"
   ]
  },
  {
   "cell_type": "code",
   "execution_count": 1,
   "id": "cf62ba4a",
   "metadata": {},
   "outputs": [
    {
     "name": "stdout",
     "output_type": "stream",
     "text": [
      "Enter a number: 5\n",
      "\n",
      "The factorial of 5 is: 120\n"
     ]
    }
   ],
   "source": [
    "def factorial(number):\n",
    "    if number == 0 or number == 1:\n",
    "        return 1\n",
    "    \n",
    "    else:\n",
    "        return number * factorial(number - 1)\n",
    "\n",
    "num = int(input(\"Enter a number: \"))\n",
    "print(\"\\nThe factorial of\", num, \"is:\", factorial(num))"
   ]
  },
  {
   "cell_type": "markdown",
   "id": "90762ed8",
   "metadata": {},
   "source": [
    "2: Permutations"
   ]
  },
  {
   "cell_type": "code",
   "execution_count": 2,
   "id": "8d7f534c",
   "metadata": {},
   "outputs": [
    {
     "name": "stdout",
     "output_type": "stream",
     "text": [
      "Enter a word: abc\n",
      "['abc', 'acb', 'bac', 'bca', 'cab', 'cba']\n"
     ]
    }
   ],
   "source": [
    "word = input(\"Enter a word: \")\n",
    "global all_perm\n",
    "\n",
    "def perm(word, pocket = \"\"):\n",
    "    if word == \"\":\n",
    "        all_perm.append(pocket)\n",
    "    \n",
    "    else:\n",
    "        for i in range(len(word)):\n",
    "            letter = word[i]\n",
    "            front = word[:i]\n",
    "            back = word[i + 1:]\n",
    "            total = front + back\n",
    "            \n",
    "            perm(total, letter + pocket)\n",
    "\n",
    "all_perm = []\n",
    "perm(word, \"\")\n",
    "\n",
    "print(sorted(all_perm))"
   ]
  },
  {
   "cell_type": "markdown",
   "id": "ab656b0c",
   "metadata": {},
   "source": [
    "3: Permutations usinig itertools library"
   ]
  },
  {
   "cell_type": "code",
   "execution_count": 3,
   "id": "24a6bfb1",
   "metadata": {},
   "outputs": [
    {
     "name": "stdout",
     "output_type": "stream",
     "text": [
      "Enter a word: abc\n",
      "['abc', 'acb', 'bac', 'bca', 'cab', 'cba']\n"
     ]
    }
   ],
   "source": [
    "from itertools import permutations\n",
    "\n",
    "word = input(\"Enter a word: \")\n",
    "final_permutations = []\n",
    "check = \"\"\n",
    "\n",
    "perms = list(permutations(word, len(word)))\n",
    "\n",
    "for i in range(len(perms)):\n",
    "    for j in range(len(perms[i])):\n",
    "        check += perms[i][j]\n",
    "    \n",
    "    final_permutations.append(check)\n",
    "    check = \"\"\n",
    "\n",
    "print(final_permutations)"
   ]
  },
  {
   "cell_type": "markdown",
   "id": "a949ab3a",
   "metadata": {},
   "source": [
    "# Searching Algorithms"
   ]
  },
  {
   "cell_type": "markdown",
   "id": "9cfa6846",
   "metadata": {},
   "source": [
    "1: Linear Search"
   ]
  },
  {
   "cell_type": "code",
   "execution_count": 5,
   "id": "7ac3d973",
   "metadata": {},
   "outputs": [
    {
     "name": "stdout",
     "output_type": "stream",
     "text": [
      "Enter the number to search: 878\n",
      "The number 878 is in index 3\n"
     ]
    }
   ],
   "source": [
    "array = [8, 46, 23, 878, 12, 963, 82]\n",
    "\n",
    "def lin_search(target, values):\n",
    "    for i, j in enumerate(array):\n",
    "        if j == target:\n",
    "            return i\n",
    "    \n",
    "    return \"No such number in the array\"\n",
    "\n",
    "number = int(input(\"Enter the number to search: \"))\n",
    "print(\"The number\", number, \"is in index\", lin_search(number, array))"
   ]
  },
  {
   "cell_type": "markdown",
   "id": "84430f81",
   "metadata": {},
   "source": [
    "2: Iterative Binary Search"
   ]
  },
  {
   "cell_type": "code",
   "execution_count": 6,
   "id": "426e307b",
   "metadata": {},
   "outputs": [
    {
     "name": "stdout",
     "output_type": "stream",
     "text": [
      "Enter the number to search: 22\n",
      "The position of the number is at index: 5\n"
     ]
    }
   ],
   "source": [
    "def iter_bin_search(start, end, array, target):    \n",
    "    while start <= end:\n",
    "        mid = (start + end) // 2\n",
    "    \n",
    "        if target == array[mid]:\n",
    "            return mid\n",
    "\n",
    "        elif target < array[mid]:\n",
    "            end = mid - 1\n",
    "\n",
    "        elif target > array[mid]:\n",
    "            start = mid + 1\n",
    "\n",
    "values = [2, 5, 8, 10, 16, 22, 25]\n",
    "number = int(input(\"Enter the number to search: \"))\n",
    "\n",
    "result = iter_bin_search(0, len(values) - 1, values, number)\n",
    "\n",
    "if result != None:\n",
    "    print(\"The position of the number is at index:\", result)\n",
    "\n",
    "else:\n",
    "    print(\"The number\", number, \"does not exist in the array\")"
   ]
  },
  {
   "cell_type": "markdown",
   "id": "f4e1ce83",
   "metadata": {},
   "source": [
    "3: Recursive Binary Search"
   ]
  },
  {
   "cell_type": "code",
   "execution_count": 7,
   "id": "c5663442",
   "metadata": {},
   "outputs": [
    {
     "name": "stdout",
     "output_type": "stream",
     "text": [
      "Enter the number to search: 16\n",
      "The position of the number is at index: 4\n"
     ]
    }
   ],
   "source": [
    "def rec_bin_search(start, end, array, target):    \n",
    "    if end >= start:\n",
    "        mid = (start + end) // 2\n",
    "    \n",
    "        if target == array[mid]:\n",
    "            return mid\n",
    "\n",
    "        elif target < array[mid]:\n",
    "            return rec_bin_search(start, mid - 1, array, target)\n",
    "\n",
    "        elif target > array[mid]:\n",
    "            return rec_bin_search(mid + 1, end, array, target) \n",
    "\n",
    "values = [2, 5, 8, 10, 16, 22, 25]\n",
    "number = int(input(\"Enter the number to search: \"))\n",
    "\n",
    "result = rec_bin_search(0, len(values) - 1, values, number)\n",
    "\n",
    "if result != None:\n",
    "    print(\"The position of the number is at index:\", result)\n",
    "\n",
    "else:\n",
    "    print(\"The number\", number, \"does not exist in the array\")"
   ]
  },
  {
   "cell_type": "markdown",
   "id": "e87330d2",
   "metadata": {},
   "source": [
    "# Sorting Algorithms"
   ]
  },
  {
   "cell_type": "markdown",
   "id": "f3f29702",
   "metadata": {},
   "source": [
    "1: Bubble Sort"
   ]
  },
  {
   "cell_type": "code",
   "execution_count": 8,
   "id": "983cba2b",
   "metadata": {},
   "outputs": [
    {
     "name": "stdout",
     "output_type": "stream",
     "text": [
      "The actual array is: [2, 8, 9, 7, 4, 1, 6, 5, 3]\n",
      "The sorted array is: [1, 2, 3, 4, 5, 6, 7, 8, 9]\n"
     ]
    }
   ],
   "source": [
    "def bubble_sort(values):\n",
    "    for i in range(len(values) - 1):\n",
    "        for j in range(i, len(values)):\n",
    "            if values[i] > values[j]:\n",
    "                values[i], values[j] = values[j], values[i]\n",
    "                \n",
    "    return values\n",
    "\n",
    "array = [2, 8, 9, 7, 4, 1, 6, 5, 3]\n",
    "print(\"The actual array is:\", array)\n",
    "print(\"The sorted array is:\", bubble_sort(array))"
   ]
  },
  {
   "cell_type": "markdown",
   "id": "16d023b5",
   "metadata": {},
   "source": [
    "2: Insertion Sort"
   ]
  },
  {
   "cell_type": "code",
   "execution_count": 9,
   "id": "811b2309",
   "metadata": {},
   "outputs": [
    {
     "name": "stdout",
     "output_type": "stream",
     "text": [
      "The actual array is: [2, 8, 9, 7, 4, 1, 6, 5, 3]\n",
      "The sorted array is: [1, 2, 3, 4, 5, 6, 7, 8, 9]\n"
     ]
    }
   ],
   "source": [
    "def insertion_sort(values):\n",
    "    for i in range(1, len(values)):\n",
    "        sorted_val = values[i]\n",
    "        unsorted_index = i - 1\n",
    "        \n",
    "        while unsorted_index > -1 and values[unsorted_index] > sorted_val:\n",
    "            values[unsorted_index + 1] = values[unsorted_index]\n",
    "            unsorted_index -= 1\n",
    "        \n",
    "        values[unsorted_index + 1] = sorted_val\n",
    "        \n",
    "    return values\n",
    "\n",
    "array = [2, 8, 9, 7, 4, 1, 6, 5, 3]\n",
    "print(\"The actual array is:\", array)\n",
    "print(\"The sorted array is:\", insertion_sort(array))"
   ]
  },
  {
   "cell_type": "markdown",
   "id": "048618ff",
   "metadata": {},
   "source": [
    "# Linked Lists"
   ]
  },
  {
   "cell_type": "markdown",
   "id": "c5147e67",
   "metadata": {},
   "source": [
    "1: Traversal"
   ]
  },
  {
   "cell_type": "code",
   "execution_count": 10,
   "id": "5fc7f6e1",
   "metadata": {},
   "outputs": [
    {
     "name": "stdout",
     "output_type": "stream",
     "text": [
      "Bob\n",
      "Amy\n",
      "Max\n",
      "Jenny\n"
     ]
    }
   ],
   "source": [
    "class Node:\n",
    "    def __init__(self, data):\n",
    "        self.data = data\n",
    "        self.next = None\n",
    "\n",
    "\n",
    "class LinkedList:\n",
    "    def traversal(self):\n",
    "        first = self.head\n",
    "        while first:\n",
    "            print(first.data)\n",
    "            first = first.next\n",
    "            \n",
    "\n",
    "    \n",
    "family = LinkedList()\n",
    "family.head = Node(\"Bob\")\n",
    "wife = Node(\"Amy\")\n",
    "first_kid = Node(\"Max\")\n",
    "second_kid = Node(\"Jenny\")\n",
    "\n",
    "family.head.next = wife\n",
    "wife.next = first_kid\n",
    "first_kid.next = second_kid\n",
    "\n",
    "family.traversal()"
   ]
  },
  {
   "cell_type": "markdown",
   "id": "8cc43b53",
   "metadata": {},
   "source": [
    "2: Insertion"
   ]
  },
  {
   "cell_type": "code",
   "execution_count": 11,
   "id": "13b0b646",
   "metadata": {},
   "outputs": [
    {
     "name": "stdout",
     "output_type": "stream",
     "text": [
      "Dave\n",
      "Bob\n",
      "Amy\n",
      "Max\n",
      "Jenny\n"
     ]
    }
   ],
   "source": [
    "class Node:\n",
    "    def __init__(self, data):\n",
    "        self.data = data\n",
    "        self.next = None\n",
    "\n",
    "\n",
    "class LinkedList:\n",
    "    def traversal(self):\n",
    "        first = self.head\n",
    "        while first:\n",
    "            print(first.data)\n",
    "            first = first.next\n",
    "    \n",
    "    def insert_new_header(self, new_data):\n",
    "            new_node = Node(new_data)\n",
    "            new_node.next = self.head\n",
    "            self.head = new_node \n",
    "    \n",
    "family = LinkedList()\n",
    "family.head = Node(\"Bob\")\n",
    "wife = Node(\"Amy\")\n",
    "first_kid = Node(\"Max\")\n",
    "second_kid = Node(\"Jenny\")\n",
    "\n",
    "family.head.next = wife\n",
    "wife.next = first_kid\n",
    "first_kid.next = second_kid\n",
    "\n",
    "family.insert_new_header(\"Dave\")\n",
    "family.traversal()"
   ]
  },
  {
   "cell_type": "markdown",
   "id": "47acb3d8",
   "metadata": {},
   "source": [
    "3: Deletion"
   ]
  },
  {
   "cell_type": "code",
   "execution_count": 12,
   "id": "f3e0f38f",
   "metadata": {},
   "outputs": [
    {
     "name": "stdout",
     "output_type": "stream",
     "text": [
      "Who do you want to add as new member?: David\n",
      "Who do you want to delete from the family?: Amy\n",
      "Amy has been ousted.\n",
      "\n",
      "The family members are:\n",
      "David\n",
      "Bob\n",
      "Max\n",
      "Jenny\n"
     ]
    }
   ],
   "source": [
    "class Node:\n",
    "    def __init__(self, data):\n",
    "        self.data = data\n",
    "        self.next = None\n",
    "\n",
    "\n",
    "class LinkedList:\n",
    "    def traversal(self):\n",
    "        print(\"\\nThe family members are:\")\n",
    "        first = self.head\n",
    "        while first:\n",
    "            print(first.data)\n",
    "            first = first.next\n",
    "    \n",
    "    def insert_new_header(self, new_data):\n",
    "            new_node = Node(new_data)\n",
    "            new_node.next = self.head\n",
    "            self.head = new_node  \n",
    "        \n",
    "    def delete_node(self, data):\n",
    "        temp = self.head\n",
    "        prev = temp\n",
    "        \n",
    "        while temp is not None:\n",
    "            if temp.data == data and temp.data == self.head.data:\n",
    "                self.head = temp.next\n",
    "                break\n",
    "                \n",
    "            elif temp.data == data:\n",
    "                break\n",
    "                \n",
    "            prev = temp\n",
    "            temp = temp.next\n",
    "        \n",
    "        if prev.next == None:\n",
    "            return str(data) + \" not in family\"\n",
    "        \n",
    "        prev.next = temp.next\n",
    "    \n",
    "        return str(data) + \" has been ousted.\"\n",
    "    \n",
    "    \n",
    "family = LinkedList()\n",
    "family.head = Node(\"Bob\")\n",
    "wife = Node(\"Amy\")\n",
    "first_kid = Node(\"Max\")\n",
    "second_kid = Node(\"Jenny\")\n",
    "\n",
    "family.head.next = wife\n",
    "wife.next = first_kid\n",
    "first_kid.next = second_kid\n",
    "\n",
    "new_mem = input(\"Who do you want to add as new member?: \")\n",
    "family.insert_new_header(new_mem)\n",
    "delete_mem = input(\"Who do you want to delete from the family?: \")\n",
    "print(family.delete_node(delete_mem))\n",
    "family.traversal()"
   ]
  },
  {
   "cell_type": "markdown",
   "id": "b772efbe",
   "metadata": {},
   "source": [
    "# Divide and Conquer"
   ]
  },
  {
   "cell_type": "markdown",
   "id": "8f54a212",
   "metadata": {},
   "source": [
    "1: Merge Sort (with already two sorted lists)"
   ]
  },
  {
   "cell_type": "code",
   "execution_count": 13,
   "id": "b031edff",
   "metadata": {},
   "outputs": [
    {
     "name": "stdout",
     "output_type": "stream",
     "text": [
      "[2, 3, 4, 5, 6, 10, 12, 20]\n"
     ]
    }
   ],
   "source": [
    "def merge_sort(One, Two):\n",
    "    while len(One) > 0 and len(Two) > 0:\n",
    "        if One[0] > Two[0]:\n",
    "            res.append(Two.pop(0))\n",
    "        \n",
    "        else:\n",
    "            res.append(One.pop(0))\n",
    "            \n",
    "    if len(One) > 0:\n",
    "        for i in One:\n",
    "            res.append(i)\n",
    "            \n",
    "    elif len(Two) > 0:\n",
    "        for j in Two:\n",
    "            res.append(j)\n",
    "    \n",
    "    return res\n",
    "\n",
    "A = [2, 5, 6, 10]\n",
    "B = [3, 4, 12, 20]\n",
    "global res\n",
    "res = []\n",
    "\n",
    "print(merge_sort(A, B))"
   ]
  },
  {
   "cell_type": "markdown",
   "id": "b505c32e",
   "metadata": {},
   "source": [
    "2: Merge Sort with Recursion (on 1 complete unsorted list)"
   ]
  },
  {
   "cell_type": "code",
   "execution_count": 14,
   "id": "72c03c9c",
   "metadata": {},
   "outputs": [
    {
     "name": "stdout",
     "output_type": "stream",
     "text": [
      "Actual list: [8, 16, 12, 24, 7, 6, 18, 29, 28]\n",
      "Sorted list: [6, 7, 8, 12, 16, 18, 24, 28, 29]\n"
     ]
    }
   ],
   "source": [
    "def merge_sort(One):\n",
    "    if len(One) <= 1:\n",
    "        return One\n",
    "    \n",
    "    res = []\n",
    "    mid = len(One) // 2\n",
    "    left = merge_sort(One[:mid])\n",
    "    right = merge_sort(One[mid:])\n",
    "\n",
    "    while len(left) > 0 and len(right) > 0:\n",
    "        if left[0] > right[0]:\n",
    "            res.append(right.pop(0))\n",
    "\n",
    "        else:\n",
    "            res.append(left.pop(0))\n",
    "\n",
    "    res.extend(left if left else right)\n",
    "    \n",
    "    return res\n",
    "    \n",
    "A = [8, 16, 12, 24, 7, 6, 18, 29, 28]\n",
    "\n",
    "print(\"Actual list:\", A)\n",
    "print(\"Sorted list:\", merge_sort(A))"
   ]
  },
  {
   "cell_type": "code",
   "execution_count": null,
   "id": "6df9018b",
   "metadata": {},
   "outputs": [],
   "source": []
  }
 ],
 "metadata": {
  "kernelspec": {
   "display_name": "Python 3 (ipykernel)",
   "language": "python",
   "name": "python3"
  },
  "language_info": {
   "codemirror_mode": {
    "name": "ipython",
    "version": 3
   },
   "file_extension": ".py",
   "mimetype": "text/x-python",
   "name": "python",
   "nbconvert_exporter": "python",
   "pygments_lexer": "ipython3",
   "version": "3.9.7"
  }
 },
 "nbformat": 4,
 "nbformat_minor": 5
}
